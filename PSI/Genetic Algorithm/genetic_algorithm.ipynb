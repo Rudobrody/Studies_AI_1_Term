{
 "cells": [
  {
   "cell_type": "code",
   "execution_count": null,
   "metadata": {},
   "outputs": [],
   "source": []
  },
  {
   "cell_type": "markdown",
   "metadata": {},
   "source": [
    "A   "
   ]
  },
  {
   "cell_type": "markdown",
   "metadata": {},
   "source": [
    "Algorytm genetyczny :\n",
    "mamy fentoyp i genotyp \n",
    "\n",
    "naszym celem nie jest zamodelowanie interakcji ze srodowiskiem naszego obiektu \n",
    "\n",
    "Chchemy uzyskac ocene przystosowania tego osobnika do srodowiska\n",
    "\n",
    "Fenotyp to co widac, koloru oczu, wzrost itd\n",
    "Genotyp to to na co mamy wplyw\n",
    "\n",
    "Srodowisko jest naszym problemem. Nasz osobink to propozycja rozwiazania naszego problemu\n",
    "\n",
    "Osobnik mozemy byc zaproponowanym wektorem parametrow. \n",
    "\n",
    "Zrobimy interferencje danych \n",
    "\n",
    "Ocena przystosowania bedzie jakas metryka blad, skutecznosc\n",
    "\n",
    "W jakim srodowisku powinienem dana ceche punktowac inaczej. Czyli w jednym punktuje bardziej jedną w drugim drugą\n",
    "\n",
    "Moze byc na poczatku generowany randomowo - mowa o gentoypie.\n",
    "\n",
    "W wygenerowanym fenotypie juz ma nie byc. Dla kazdego z osobnikow potrzebujemy oceny przystosowania, ilosciowego okreslenia jak dobrze rozwiazuje problem. \n",
    "\n",
    "Jest populacja poczatkowa jakos ich ocenilem. Jedni gorsi, drudzy lepsi. Wiec potem wykorzystujemy informacje kto jest lepszy kto jest gorszy, ale ale...\n",
    "\n",
    "Mam osobnika o jakims genotypie i moge zanegowac np jego genotyp tzn jesli ma 101010. Okreslam w ilu punktach bede negowal tego osobnika. Np od 1 do polowy dlugosci gentyopu. Wychodzi ze w dwoch punktach. Losuje dwa geny. Mutuje te dwa geny. Jesli mamy liczby calkowite jako genotyp to musimy wymyslec co oznacza ze mutujemy. Jesli mamy zakres od -1 do 1 czyli mozemy zrobic negacje ze 1 oraz -1 albo przesunac o jakas wartosc albo wybrac wartosc z tego zakresu. Wiec mozna sie pobawic z losowoscia na kilku poziomach. Jak zmutujemy osobnika to wraca on do populacji. Ile ma byc mutacji? Wiec moze najpierw sterujmy ? Czy przeprowadzic wgl mutacje? Wiec zrobmy parametr hipermutacji czy ją przeprowadzic. NIe musi on byc staly w czasie dzialania ale wartosci tego parametru powinnismy zaczac od 0.2 albo 0.1. Czyli 20 % szans ze zajdzie zmiana w osobniku. \n",
    "\n",
    "Jesli nie powinno byc mutacji to osobnik wraca do populacji niezmieniony. W procedurze krzyzowania dobieramy w pary, najlepiej w sposob losowy. Analogicznie jak w przypadku mutacji. Krzyzowanie nie zawsze sie odbywa czyli niektorzy zostaja singlami ale prawdopodobienstwa krzyzowania jest znacznie wieksze np 0.8. Jak nie zachodzi to oni wracaja do populacji. Jesli skrzyzowanie ma dojsc do skutku. Np. krzyzowanie jednopunktowe czyli biore polowe od pierwszego, polowe druga i przyjelo sie ze buuduje sie dwojke dzieci. Jka budujemy dzieci to rodzicow sie pozbywamy. Wiec do populacji wracaja dzieci. Mozemy komplikowac czyli w ilu punktach bedziemy krzyzowac, dla liczby w ktorych bedziemy losujemy punkty w ktorych kryzzujemy. Mam jakis segment losuje czy to bedzie dziecko 1 czy 2. Itd...\n",
    "\n",
    "Te operacje z punktu osiagania zbieznosci sa kompletnie slepe ale operacja o ktorej zaraz bedzie mowa juz slepa nie jest. Zwiazana jest ze zmiennoscia pokolen czyli wlaczamy czas. Mamy 10 osobnikow mamy jakis scoring dla nich. Sortujemy i pozwalamay osobnikom najlepszym zostac i wrocic, a procent najgorszej usuwamy po prostu. My ustalamy ile procent sie pozbywamy populacji. A procent najlepszej klonujemy. Tzw selekcja rankingowa to jest. Mutuje sie cala populacja. \n",
    "\n",
    "Selekcja rankingowa: jest jakies prawdopodobienstwo ze dany osobnik skonczy na 1, 2, 3 miejscu. \n",
    "\n",
    "Zaimplementowanie koło ruletki: kazdy z osobnikow dostaje wycinek tego kola. Czastki nie sa rowne tylko zaleza od przystosowania. Rozklad prawdopodobienstwa jest rowny  mozemy uzywac biblioteki do losowania wartosci z tego rozkladu. Osobnik najwieksza czesc ktory wylosuje ma najwieksza szanse ze zotsniae wylosowany. Losuje n razy czyli tyle ile populacji. Moge sterowac agresywnoscia srodowiska. \n",
    "\n",
    "Mozemy podniesc do kwadratu wtedy srodowisko staje sie agresywniejsze dla slabszych, odwrotnie - pierwiastek. \n",
    "\n",
    "Pamietaj czy maksymalizujesz czy minimalizujesz - robic maksymalizowanie, nie dawac bledu wprost jako fitnesuu tylko 1 przez blad i wtedy to maksymalizowac. W przypadku ruletki osobniki sie pojawia w kolejnosci losowej.  Jak dlugo krecimy tym kolkiem. Osobnik nie znika z koła po wylosowaniu. Wiec najlepsi znajda sie wiecej niz raz. Ile pokolen krecic? Az osiagniemy pewna liczbe pokolen ktora ma przejsc, np 1000 pokolen. Mozemy stweirdzic ze np takie accuracy wystarczy a trzeci warunek stopu to np sprawdzenie ze 2/3 osobnikow to najlepszy score to juz tutaj za duzo sie zadzieje. ]\n",
    "\n",
    "genotyp -> fenotyp -> mutujemy -> rozmnazamy srodowisko"
   ]
  },
  {
   "cell_type": "markdown",
   "metadata": {},
   "source": [
    "Fabryka, pewne prace, resource czyli jakas maszyna i ilosc czasu. W procesie produkcyjnym musze zachowac cykl produkcyjny czyli musi byc maszyna 1, maszyna 2, maszyna 3, maszyna 4. Nie moge przerwac kroku gdy juz zaczne pracowac na danej maszynie. Moge pomiedzy krokami odlozyc produkt. Wykres Gantta. Moze optymalizacja powierzchni gantta? Do genotypu podejsc jak o zakodowanej recepcie do stworzenia fenotypu. Wiec genotyp to przepis jak kodowac wykres gantta. Calkowity czas optymalizowac. Losowe roziwazania powinny oscylowac 2500 a 3000 jednostek czasu. Optymalne to raczej troche ponizej 2100 "
   ]
  },
  {
   "cell_type": "markdown",
   "metadata": {},
   "source": [
    "# 0.0 Theory about genetic algorithm"
   ]
  },
  {
   "cell_type": "markdown",
   "metadata": {},
   "source": [
    "It is a search method inspired directly by Charles Darwin's theory of evolution: Survival of the Fittest. \n",
    "1. Initialization - creating the first generation, starts by creating a random population of solutions (**chromosomes**)  \n",
    "2. "
   ]
  },
  {
   "cell_type": "markdown",
   "metadata": {},
   "source": [
    "# 1.0 Import database\n",
    "\n",
    "R -  resource\n",
    "T - time"
   ]
  },
  {
   "cell_type": "code",
   "execution_count": null,
   "metadata": {},
   "outputs": [
    {
     "name": "stdout",
     "output_type": "stream",
     "text": [
      "MultiIndex([( 1, 'R'),\n",
      "            ( 1, 'T'),\n",
      "            ( 2, 'R'),\n",
      "            ( 2, 'T'),\n",
      "            ( 3, 'R'),\n",
      "            ( 3, 'T'),\n",
      "            ( 4, 'R'),\n",
      "            ( 4, 'T'),\n",
      "            ( 5, 'R'),\n",
      "            ( 5, 'T'),\n",
      "            ( 6, 'R'),\n",
      "            ( 6, 'T'),\n",
      "            ( 7, 'R'),\n",
      "            ( 7, 'T'),\n",
      "            ( 8, 'R'),\n",
      "            ( 8, 'T'),\n",
      "            ( 9, 'R'),\n",
      "            ( 9, 'T'),\n",
      "            (10, 'R'),\n",
      "            (10, 'T'),\n",
      "            (11, 'R'),\n",
      "            (11, 'T'),\n",
      "            (12, 'R'),\n",
      "            (12, 'T'),\n",
      "            (13, 'R'),\n",
      "            (13, 'T'),\n",
      "            (14, 'R'),\n",
      "            (14, 'T'),\n",
      "            (15, 'R'),\n",
      "            (15, 'T'),\n",
      "            (16, 'R'),\n",
      "            (16, 'T'),\n",
      "            (17, 'R'),\n",
      "            (17, 'T'),\n",
      "            (18, 'R'),\n",
      "            (18, 'T'),\n",
      "            (19, 'R'),\n",
      "            (19, 'T'),\n",
      "            (20, 'R'),\n",
      "            (20, 'T'),\n",
      "            (21, 'R'),\n",
      "            (21, 'T'),\n",
      "            (22, 'R'),\n",
      "            (22, 'T'),\n",
      "            (23, 'R'),\n",
      "            (23, 'T'),\n",
      "            (24, 'R'),\n",
      "            (24, 'T'),\n",
      "            (25, 'R'),\n",
      "            (25, 'T'),\n",
      "            (26, 'R'),\n",
      "            (26, 'T'),\n",
      "            (27, 'R'),\n",
      "            (27, 'T'),\n",
      "            (28, 'R'),\n",
      "            (28, 'T'),\n",
      "            (29, 'R'),\n",
      "            (29, 'T'),\n",
      "            (30, 'R'),\n",
      "            (30, 'T'),\n",
      "            (31, 'R'),\n",
      "            (31, 'T'),\n",
      "            (32, 'R'),\n",
      "            (32, 'T'),\n",
      "            (33, 'R'),\n",
      "            (33, 'T'),\n",
      "            (34, 'R'),\n",
      "            (34, 'T'),\n",
      "            (35, 'R'),\n",
      "            (35, 'T'),\n",
      "            (36, 'R'),\n",
      "            (36, 'T'),\n",
      "            (37, 'R'),\n",
      "            (37, 'T'),\n",
      "            (38, 'R'),\n",
      "            (38, 'T'),\n",
      "            (39, 'R'),\n",
      "            (39, 'T'),\n",
      "            (40, 'R'),\n",
      "            (40, 'T'),\n",
      "            (41, 'R'),\n",
      "            (41, 'T'),\n",
      "            (42, 'R'),\n",
      "            (42, 'T'),\n",
      "            (43, 'R'),\n",
      "            (43, 'T'),\n",
      "            (44, 'R'),\n",
      "            (44, 'T'),\n",
      "            (45, 'R'),\n",
      "            (45, 'T'),\n",
      "            (46, 'R'),\n",
      "            (46, 'T'),\n",
      "            (47, 'R'),\n",
      "            (47, 'T'),\n",
      "            (48, 'R'),\n",
      "            (48, 'T'),\n",
      "            (49, 'R'),\n",
      "            (49, 'T'),\n",
      "            (50, 'R'),\n",
      "            (50, 'T')],\n",
      "           )\n"
     ]
    }
   ],
   "source": [
    "import pandas as pd\n",
    "import numpy as np \n",
    "import matplotlib\n",
    "import matplotlib.pyplot as plt\n",
    "import math\n",
    "\n",
    "df = pd.read_excel('GA_task.xlsx', header=[0, 1])\n",
    "print(df.columns)"
   ]
  },
  {
   "cell_type": "code",
   "execution_count": null,
   "metadata": {},
   "outputs": [
    {
     "name": "stdout",
     "output_type": "stream",
     "text": [
      "0   1     9\n",
      "    2     5\n",
      "    3     5\n",
      "    4     8\n",
      "    5     9\n",
      "         ..\n",
      "10  46    8\n",
      "    47    4\n",
      "    48    9\n",
      "    49    1\n",
      "    50    8\n",
      "Length: 550, dtype: int64\n"
     ]
    }
   ],
   "source": [
    "AMOUNT_OF_TASKS = 50\n",
    "\n",
    "# DataFrame with only resource column\n",
    "df_resources = df.xs(\"R\", level=1, axis=1) # xs stands for cross section, level 0 is the task ID, level 1 is either 'R' or 'T', axis=1 columns\n",
    "\n",
    "# All resources values tacked into one series\n",
    "all_resources = df_resources.stack()\n",
    "\n",
    "list_of_unique_resources = all_resources.unique()\n",
    "\n",
    "AMOUNT_OF_UNIQUE_RESOURCES = len(list_of_unique_resources)\n",
    "\n",
    "shortest_time = math.inf\n"
   ]
  },
  {
   "cell_type": "code",
   "execution_count": null,
   "metadata": {},
   "outputs": [
    {
     "ename": "TypeError",
     "evalue": "'MultiIndex' object is not callable",
     "output_type": "error",
     "traceback": [
      "\u001b[1;31m---------------------------------------------------------------------------\u001b[0m",
      "\u001b[1;31mTypeError\u001b[0m                                 Traceback (most recent call last)",
      "Cell \u001b[1;32mIn[19], line 23\u001b[0m\n\u001b[0;32m     20\u001b[0m list_of_tasks \u001b[38;5;241m=\u001b[39m []\n\u001b[0;32m     22\u001b[0m \u001b[38;5;28;01mfor\u001b[39;00m task \u001b[38;5;129;01min\u001b[39;00m \u001b[38;5;28mrange\u001b[39m(AMOUNT_OF_TASKS):\n\u001b[1;32m---> 23\u001b[0m     list_of_tasks[task] \u001b[38;5;241m=\u001b[39m Task(\u001b[43mdf\u001b[49m\u001b[38;5;241;43m.\u001b[39;49m\u001b[43mcolumns\u001b[49m\u001b[43m(\u001b[49m\u001b[43m[\u001b[49m\u001b[43mtask\u001b[49m\u001b[43m]\u001b[49m\u001b[43m,\u001b[49m\u001b[43m \u001b[49m\u001b[38;5;124;43m\"\u001b[39;49m\u001b[38;5;124;43mR\u001b[39;49m\u001b[38;5;124;43m\"\u001b[39;49m\u001b[43m)\u001b[49m, df\u001b[38;5;241m.\u001b[39mcolumns([task], \u001b[38;5;124m\"\u001b[39m\u001b[38;5;124mT\u001b[39m\u001b[38;5;124m\"\u001b[39m)) \n",
      "\u001b[1;31mTypeError\u001b[0m: 'MultiIndex' object is not callable"
     ]
    }
   ],
   "source": [
    "class GeneticAlgorithm():\n",
    "    def __init__(self):\n",
    "        self._create_first_generation()\n",
    "        pass\n",
    "\n",
    "\n",
    "    def _create_first_generation(self):\n",
    "        pass\n",
    "\n",
    "\n",
    "    def _checking_all_task_done(self):\n",
    "        \"\"\"Checking if all task are done\"\"\"\n",
    "        for task in list_of_tasks:\n",
    "            if list_of_tasks[task].is_it_done == False:\n",
    "                break\n",
    "            else:\n",
    "                if _ < shortest_time:\n",
    "                    shortest_time = _\n",
    "                \n",
    "\n",
    "\n",
    "    def _compute_time_of_getting_done_all_task(self):\n",
    "        pass\n",
    "\n",
    "\n",
    "    def _check_order(self):\n",
    "        \"\"\"Checking order of task: is it possible to use next resource\"\"\"\n",
    "        pass\n",
    "\n",
    "\n",
    "    def _checing_avaiable_resources(self):\n",
    "        pass\n",
    "\n",
    "\n",
    "class Task():\n",
    "    def __init__(self, order, time_duration):\n",
    "        self.order = order\n",
    "        self.time_duration = time_duration\n",
    "        self.is_it_done = False\n",
    "\n",
    "\n",
    "list_of_tasks = []\n",
    "\n",
    "for task in range(AMOUNT_OF_TASKS):\n",
    "    list_of_tasks[task] = Task(df.columns([task], \"R\"), df.columns([task], \"T\")) \n",
    "\n",
    "        "
   ]
  },
  {
   "cell_type": "code",
   "execution_count": null,
   "metadata": {},
   "outputs": [],
   "source": [
    "# In our case chromosomes and our solution "
   ]
  }
 ],
 "metadata": {
  "kernelspec": {
   "display_name": "Python 3",
   "language": "python",
   "name": "python3"
  },
  "language_info": {
   "codemirror_mode": {
    "name": "ipython",
    "version": 3
   },
   "file_extension": ".py",
   "mimetype": "text/x-python",
   "name": "python",
   "nbconvert_exporter": "python",
   "pygments_lexer": "ipython3",
   "version": "3.13.1"
  }
 },
 "nbformat": 4,
 "nbformat_minor": 2
}
